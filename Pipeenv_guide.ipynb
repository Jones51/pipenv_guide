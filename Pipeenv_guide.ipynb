{
 "cells": [
  {
   "cell_type": "markdown",
   "metadata": {},
   "source": [
    "# Configuring and installing new virtual enviroment with pipenv "
   ]
  },
  {
   "cell_type": "markdown",
   "metadata": {},
   "source": [
    "1. First you need to install the library \"pip install pipenv\"\n",
    "2. Activate the virtual enviroment \"pipenv shell\"\n",
    "3. Now, all the comands, instead of \"pip install\", are \"pipenv install\", so for example:\n",
    "    1. pipenv install flask==0.12.1\n",
    "4. Install the necessary dependecies\n",
    "5. Lock the enviroment, kind of save the file \"pipenv lock\"\n",
    "6. DONE\n",
    "7. Now, other developer that may need to use this project, can easily install the dependecies by \"pipenv install --ignore-pipfile\""
   ]
  },
  {
   "cell_type": "markdown",
   "metadata": {},
   "source": [
    "Further details: https://realpython.com/pipenv-guide/"
   ]
  }
 ],
 "metadata": {
  "kernelspec": {
   "display_name": "Python 3.10.6 64-bit",
   "language": "python",
   "name": "python3"
  },
  "language_info": {
   "codemirror_mode": {
    "name": "ipython",
    "version": 3
   },
   "file_extension": ".py",
   "mimetype": "text/x-python",
   "name": "python",
   "nbconvert_exporter": "python",
   "pygments_lexer": "ipython3",
   "version": "3.10.6"
  },
  "orig_nbformat": 4,
  "vscode": {
   "interpreter": {
    "hash": "6263b571496add2af732bbb221f0b4aa96ade623464fd86a3add01e1c83d94c5"
   }
  }
 },
 "nbformat": 4,
 "nbformat_minor": 2
}
