{
 "cells": [
  {
   "cell_type": "markdown",
   "metadata": {},
   "source": [
    "# Configuring and installing new virtual enviroment with pipenv "
   ]
  },
  {
   "cell_type": "markdown",
   "metadata": {},
   "source": [
    "1. First you need to install the library \"pip install pipenv\"\n",
    "2. Activate the virtual enviroment \"pipenv shell\"\n",
    "3. Now, all the comands, instead of \"pip install\", are \"pipenv install\", so for example:\n",
    "    1. pipenv install flask==0.12.1\n",
    "4. Install the necessary dependecies\n",
    "5. Lock the enviroment, kind of save the file \"pipenv lock\"\n",
    "6. DONE\n",
    "7. Now, other developer that may need to use this project, can easily install the dependecies by \"pipenv install --ignore-pipfile\""
   ]
  },
  {
   "cell_type": "markdown",
   "metadata": {},
   "source": [
    "Further details: https://realpython.com/pipenv-guide/"
   ]
  },
  {
   "cell_type": "markdown",
   "metadata": {},
   "source": []
  }
 ],
 "metadata": {
  "language_info": {
   "name": "python"
  },
  "orig_nbformat": 4
 },
 "nbformat": 4,
 "nbformat_minor": 2
}
